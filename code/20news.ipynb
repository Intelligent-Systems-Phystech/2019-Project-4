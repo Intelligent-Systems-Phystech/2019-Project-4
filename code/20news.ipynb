{
 "cells": [
  {
   "cell_type": "code",
   "execution_count": 4,
   "metadata": {},
   "outputs": [],
   "source": [
    "import warnings\n",
    "warnings.filterwarnings('ignore')"
   ]
  },
  {
   "cell_type": "code",
   "execution_count": 5,
   "metadata": {},
   "outputs": [],
   "source": [
    "import glob\n",
    "import os\n",
    "import re\n",
    "from tqdm import tqdm_notebook\n",
    "\n",
    "import artm\n",
    "import numpy as np\n",
    "import pandas as pd\n",
    "from sklearn.datasets import fetch_20newsgroups\n",
    "from sklearn.metrics import accuracy_score, f1_score, classification_report\n",
    "from sklearn.model_selection import GridSearchCV, train_test_split\n",
    "from sklearn.preprocessing import LabelEncoder\n",
    "\n",
    "# Run in terminal or command prompt\n",
    "# python3 -m spacy download en\n",
    "import nltk, spacy, gensim\n",
    "\n",
    "# nltk.download('stopwords')\n",
    "# nltk.download('wordnet')\n",
    "from nltk.corpus import stopwords\n",
    "from nltk.stem import WordNetLemmatizer\n",
    "\n",
    "from matplotlib import pyplot as plt\n",
    "%matplotlib inline"
   ]
  },
  {
   "cell_type": "code",
   "execution_count": 6,
   "metadata": {
    "code_folding": []
   },
   "outputs": [],
   "source": [
    "def plot_perp_and_sparsity(model, use_first_perp=False):\n",
    "    f = plt.figure(figsize=(12,5))\n",
    "    ax1 = f.add_subplot(121)\n",
    "    ax2 = f.add_subplot(122)\n",
    "    if use_first_perp:\n",
    "        ax1.plot(model.score_tracker[\"perplexity_score\"].value)\n",
    "    else:\n",
    "        ax1.plot(model.score_tracker[\"perplexity_score\"].value[1:])\n",
    "    ax1.set_title('perplexity')\n",
    "    ax1.grid()\n",
    "    ax2.plot(model.score_tracker[\"sparsity_theta_score\"].value)\n",
    "    ax2.plot(model.score_tracker[\"sparsity_phi_score\"].value)\n",
    "    ax2.set_title('$\\\\Phi$ and $\\\\Theta$ sparsity')\n",
    "    ax2.grid()\n",
    "    \n",
    "def print_top_words(model, indexes=False):\n",
    "    if not indexes:\n",
    "        indexes = model.score_tracker[\"top_words\"].last_tokens.keys()\n",
    "    else:\n",
    "        indexes = list(map(str, indexes))\n",
    "    for topic_name in indexes:\n",
    "        tokens = model.score_tracker[\"top_words\"].last_tokens\n",
    "        res_str = topic_name + ': ' + ', '.join(tokens[topic_name])\n",
    "        print(res_str)"
   ]
  },
  {
   "cell_type": "markdown",
   "metadata": {},
   "source": [
    "# Data preprocessing"
   ]
  },
  {
   "cell_type": "code",
   "execution_count": 7,
   "metadata": {
    "code_folding": [],
    "scrolled": false
   },
   "outputs": [],
   "source": [
    "# \"../data\" folder doesn't contain this file because it is too big for uploading\n",
    "news_words = np.load('../data/news_data/preprocessed.npy')\n",
    "news_target = fetch_20newsgroups('../data/news_data').target\n",
    "\n",
    "X_train, X_test, y_train, y_test = \\\n",
    "    train_test_split(news_words, news_target, random_state=16)"
   ]
  },
  {
   "cell_type": "code",
   "execution_count": null,
   "metadata": {},
   "outputs": [],
   "source": [
    "doc = -1\n",
    "\n",
    "def to_vw_format_rtm(document, label, type=\"train\"):\n",
    "    global doc\n",
    "    doc = doc +1\n",
    "    if (type == \"train\"):\n",
    "        return str(\"doc_\" + str(doc)) + ' |@raw_text ' + ' '.join(re.findall('\\w{3,}', document.lower()))\\\n",
    "            + ' |@origin ' + str(label or \"0\") + 'ss' + '\\n'\n",
    "    elif (type == \"test\"):\n",
    "        return str(\"doc_\" + str(doc)) + ' |@raw_text ' + ' '.join(re.findall('\\w{3,}', document.lower()))\\a\n",
    "            + '\\n'\n",
    "    elif (type == \"labels\"):\n",
    "        return str(\"doc_\" + str(doc)) + ' |@origin '+ str(label or \"0\") + 'ss' + '\\n'"
   ]
  },
  {
   "cell_type": "code",
   "execution_count": null,
   "metadata": {},
   "outputs": [],
   "source": [
    "with open('20ng_train_artm.vw', 'w') as vw_train_data:\n",
    "    for text, target in zip(X_train, y_train):\n",
    "        vw_train_data.write(to_vw_format_rtm(text, target, type = \"train\"))\n",
    "doc1 = doc\n",
    "with open('20ng_test_artm.vw', 'w') as vw_test_data:\n",
    "    for text, target in zip(X_test, y_test):\n",
    "        vw_test_data.write(to_vw_format_rtm(text, target, type = \"test\"))\n",
    "doc = doc1\n",
    "with open('20ng_labels_artm.vw', 'w') as vw_labels_data:\n",
    "    for text, target in zip(X_test, y_test):\n",
    "        vw_labels_data.write(to_vw_format_rtm(text, target, type = \"labels\"))"
   ]
  },
  {
   "cell_type": "code",
   "execution_count": 7,
   "metadata": {
    "code_folding": []
   },
   "outputs": [],
   "source": [
    "y_true_dict = {}\n",
    "with open('20ng_labels_artm.vw', \"r\", encoding=\"utf8\") as f:\n",
    "    for line in f:\n",
    "        doc, _, part = line.partition(\"|\")\n",
    "        modality_name, _, data = part.partition(\" \")\n",
    "        modality_name = modality_name.strip()\n",
    "        if modality_name == \"@origin\":\n",
    "            y_true_dict[doc.strip()] = data.strip()"
   ]
  },
  {
   "cell_type": "code",
   "execution_count": 8,
   "metadata": {
    "code_folding": []
   },
   "outputs": [],
   "source": [
    "def read_collection(target_folder, vw_name):\n",
    "    if len(glob.glob(os.path.join(target_folder, '*.batch'))) < 1:\n",
    "        batch_vectorizer = artm.BatchVectorizer(\n",
    "            data_path=vw_name,\n",
    "            data_format='vowpal_wabbit',\n",
    "            target_folder=target_folder)\n",
    "    else:\n",
    "        batch_vectorizer = artm.BatchVectorizer(\n",
    "            data_path=target_folder,\n",
    "            data_format='batches')\n",
    "\n",
    "    dictionary = artm.Dictionary()\n",
    "    dict_path = os.path.join(target_folder, 'dict.dict')\n",
    "\n",
    "    if not os.path.isfile(dict_path):\n",
    "        dictionary.gather(data_path=batch_vectorizer.data_path)\n",
    "        dictionary.save(dictionary_path=dict_path)\n",
    "\n",
    "    dictionary.load(dictionary_path=dict_path)\n",
    "    return batch_vectorizer, dictionary"
   ]
  },
  {
   "cell_type": "code",
   "execution_count": 9,
   "metadata": {},
   "outputs": [
    {
     "data": {
      "text/plain": [
       "artm.Dictionary(name=d9b4a8ce-d4a6-4ef2-b3d4-1cf72e35d93f, num_entries=64469)"
      ]
     },
     "execution_count": 9,
     "metadata": {},
     "output_type": "execute_result"
    }
   ],
   "source": [
    "bv_news, dictionary_news = read_collection(\"batches_train\", \"./20ng_train_artm.vw\")\n",
    "bv_test, test_dict = read_collection(\"batches_test\", \"./20ng_test_artm.vw\")\n",
    "dictionary_news.filter(max_df_rate=0.95)"
   ]
  },
  {
   "cell_type": "code",
   "execution_count": 10,
   "metadata": {
    "code_folding": []
   },
   "outputs": [],
   "source": [
    "def test_accuracy(model):\n",
    "    result = model.transform(batch_vectorizer=bv_test, predict_class_id=\"@origin\")\n",
    "    y_true = []\n",
    "    y_pred = []\n",
    "    for doc, answer in y_true_dict.items():\n",
    "        y_true.append(answer)\n",
    "        y_pred.append(result[doc].argmax())\n",
    "        \n",
    "    return accuracy_score(y_true, y_pred)"
   ]
  },
  {
   "cell_type": "markdown",
   "metadata": {},
   "source": [
    "# Experiment"
   ]
  },
  {
   "cell_type": "code",
   "execution_count": 99,
   "metadata": {},
   "outputs": [],
   "source": [
    "T = 20           # number of topics\n",
    "n_news = 1352511 # number of tokens\n",
    "D_news = 8485    # number of documents"
   ]
  },
  {
   "cell_type": "code",
   "execution_count": 128,
   "metadata": {},
   "outputs": [],
   "source": [
    "model_news = artm.ARTM(\n",
    "    topic_names=['topic {}'.format(i) for i in range(T)],\n",
    "    theta_columns_naming = 'title',\n",
    "    show_progress_bars=True,\n",
    "    num_document_passes = 5,\n",
    "    class_ids={'@raw_text': 1.0, '@origin': 20.0}\n",
    ")"
   ]
  },
  {
   "cell_type": "code",
   "execution_count": 129,
   "metadata": {},
   "outputs": [],
   "source": [
    "model_news.scores.add(artm.PerplexityScore(name='perplexity_score', dictionary=dictionary_news))\n",
    "model_news.scores.add(artm.SparsityPhiScore(name='sparsity_phi_score', class_id='@raw_text'))\n",
    "model_news.scores.add(artm.SparsityThetaScore(name='sparsity_theta_score'))\n",
    "model_news.scores.add(artm.TopTokensScore(name=\"top_words\", num_tokens=15, class_id='@raw_text'))\n",
    "\n",
    "np.random.seed(16)\n",
    "model_news.initialize(dictionary_news)"
   ]
  },
  {
   "cell_type": "markdown",
   "metadata": {},
   "source": [
    "Если регуляризация относительная: \n",
    "Для декорреляции что-то в промежутке [0, 0.05] (если больше, то модель просто упарывается сразу)\n",
    "Для сглаживания можно ставить [0, 2] (для сглаживания фоновых тем может быть смысл брать 2, но для предметных это скорее что-то в духе 10^-5)\n",
    "Для разреживания [0, -1] (-1 — это обнулять всё полностью; в -0.7 модель уже упарывается)"
   ]
  },
  {
   "cell_type": "markdown",
   "metadata": {},
   "source": [
    "### Order of regulirizers  optimization\n",
    "Result: decorrelation, sparse_phi, sparse_theta"
   ]
  },
  {
   "cell_type": "markdown",
   "metadata": {},
   "source": [
    "#### accuracy=0.818\n",
    "- dec - 0.05\n",
    "- sparse_phi - 1e-5\n",
    "- sparse_theta - 0.1"
   ]
  },
  {
   "cell_type": "code",
   "execution_count": null,
   "metadata": {},
   "outputs": [],
   "source": [
    "model_news.fit_offline(batch_vectorizer=bv_news, num_collection_passes=10)\n",
    "\n",
    "model_news.regularizers.add(\n",
    "    artm.DecorrelatorPhiRegularizer(\n",
    "        name='decorrelator_phi', tau=0.05, gamma=0, class_ids=\"@raw_text\")#, overwrite=True\n",
    ")\n",
    "model_news.fit_offline(batch_vectorizer=bv_news, num_collection_passes=10)"
   ]
  },
  {
   "cell_type": "code",
   "execution_count": 123,
   "metadata": {},
   "outputs": [
    {
     "data": {
      "application/vnd.jupyter.widget-view+json": {
       "model_id": "",
       "version_major": 2,
       "version_minor": 0
      },
      "text/plain": [
       "HBox(children=(IntProgress(value=0, description='Batch', max=3, style=ProgressStyle(description_width='initial…"
      ]
     },
     "metadata": {},
     "output_type": "display_data"
    },
    {
     "data": {
      "text/plain": [
       "0.8123011664899258"
      ]
     },
     "execution_count": 123,
     "metadata": {},
     "output_type": "execute_result"
    }
   ],
   "source": [
    "test_accuracy(model_news)"
   ]
  },
  {
   "cell_type": "code",
   "execution_count": null,
   "metadata": {},
   "outputs": [],
   "source": [
    "model_news.regularizers.add(\n",
    "    artm.SmoothSparsePhiRegularizer(\n",
    "        name='sparse_phi', tau=-1e-5, gamma=0, \n",
    "        dictionary=dictionary_news)#, overwrite=True\n",
    ")\n",
    "\n",
    "model_news.fit_offline(batch_vectorizer=bv_news, num_collection_passes=10)"
   ]
  },
  {
   "cell_type": "code",
   "execution_count": null,
   "metadata": {},
   "outputs": [],
   "source": [
    "model_news.regularizers.add(\n",
    "    artm.SmoothSparseThetaRegularizer(\n",
    "        name='sparse_theta', tau = -0.1/(1+0.1) * n_news/(T*D_news) # relative coef = 0.1\n",
    "    ) #, overwrite=True\n",
    ")\n",
    "model_news.fit_offline(batch_vectorizer=bv_news, num_collection_passes=10)"
   ]
  },
  {
   "cell_type": "code",
   "execution_count": 127,
   "metadata": {
    "code_folding": []
   },
   "outputs": [
    {
     "name": "stdout",
     "output_type": "stream",
     "text": [
      "topic 10: bike, dod, article, writes, motorcycle, ride, one, dog, like, posting, nntp, host, get, dont, riding\n",
      "topic 0: christian, science, one, writes, article, people, say, think, child, koresh, dont, know, would, god, order\n",
      "topic 5: mac, apple, problem, drive, bit, chip, monitor, card, speed, one, posting, university, ram, simms, nntp\n",
      "topic 9: sale, offer, price, shipping, new, university, mail, distribution, edu, posting, nntp, host, condition, mov, please\n",
      "topic 3: key, encryption, chip, clipper, government, security, privacy, system, use, would, one, public, law, escrow, information\n",
      "topic 13: god, one, atheist, people, writes, dont, would, argument, think, say, religion, thing, article, moral, human\n",
      "topic 14: said, people, armenian, one, didnt, went, know, say, dont, woman, would, going, something, told, like\n",
      "topic 1: wire, one, circuit, use, power, ground, would, need, host, like, university, get, current, outlet, used\n",
      "topic 12: food, disease, medical, one, article, health, patient, doctor, gordon, msg, bank, writes, would, study, time\n",
      "topic 19: president, people, would, government, tax, think, state, writes, article, dont, stephanopoulos, clinton, job, make, money\n",
      "topic 16: game, team, hockey, play, player, nhl, season, year, playoff, goal, win, university, period, league, writes\n",
      "topic 15: space, nasa, launch, satellite, orbit, mission, earth, year, article, writes, moon, shuttle, rocket, flight, system\n",
      "topic 8: drive, scsi, ide, controller, bus, entry, card, disk, system, isa, problem, file, tape, get, output\n",
      "topic 7: year, game, team, baseball, player, writes, article, last, run, win, hit, good, fan, think, university\n",
      "topic 6: gun, people, would, right, israel, article, writes, israeli, state, turkish, armenian, one, jew, weapon, government\n",
      "topic 2: file, image, graphic, ftp, pub, format, program, available, data, version, edu, mail, gif, information, jpeg\n",
      "topic 17: car, article, writes, auto, engine, would, bhj, posting, like, bxn, one, get, nntp, host, good\n",
      "topic 11: god, jesus, christian, one, would, church, people, bible, say, christ, faith, believe, think, know, life\n",
      "topic 18: window, driver, file, card, problem, mouse, program, use, win, using, university, font, version, system, mode\n",
      "topic 4: window, widget, server, motif, application, sun, use, mit, get, program, problem, set, using, event, display\n"
     ]
    },
    {
     "data": {
      "application/vnd.jupyter.widget-view+json": {
       "model_id": "",
       "version_major": 2,
       "version_minor": 0
      },
      "text/plain": [
       "HBox(children=(IntProgress(value=0, description='Batch', max=3, style=ProgressStyle(description_width='initial…"
      ]
     },
     "metadata": {},
     "output_type": "display_data"
    },
    {
     "data": {
      "text/plain": [
       "0.8179568752209261"
      ]
     },
     "execution_count": 127,
     "metadata": {},
     "output_type": "execute_result"
    },
    {
     "data": {
      "image/png": "[encoded data removed]",
      "text/plain": [
       "<Figure size 864x360 with 2 Axes>"
      ]
     },
     "metadata": {
      "needs_background": "light"
     },
     "output_type": "display_data"
    }
   ],
   "source": [
    "plot_perp_and_sparsity(model_news)\n",
    "print_top_words(model_news)\n",
    "test_accuracy(model_news)"
   ]
  },
  {
   "cell_type": "markdown",
   "metadata": {},
   "source": [
    "#### accuracy=0.821\n",
    "- dec - 0.05\n",
    "- sparse_theta - 0.1\n",
    "- sparse_phi - 1e-5"
   ]
  },
  {
   "cell_type": "code",
   "execution_count": null,
   "metadata": {},
   "outputs": [],
   "source": [
    "model_news.fit_offline(batch_vectorizer=bv_news, num_collection_passes=10)\n",
    "\n",
    "model_news.regularizers.add(\n",
    "    artm.DecorrelatorPhiRegularizer(\n",
    "        name='decorrelator_phi', tau=0.05, gamma=0, class_ids=\"@raw_text\")#, overwrite=True\n",
    ")\n",
    "model_news.fit_offline(batch_vectorizer=bv_news, num_collection_passes=10)"
   ]
  },
  {
   "cell_type": "code",
   "execution_count": 105,
   "metadata": {},
   "outputs": [
    {
     "data": {
      "application/vnd.jupyter.widget-view+json": {
       "model_id": "",
       "version_major": 2,
       "version_minor": 0
      },
      "text/plain": [
       "HBox(children=(IntProgress(value=0, description='Batch', max=3, style=ProgressStyle(description_width='initial…"
      ]
     },
     "metadata": {},
     "output_type": "display_data"
    },
    {
     "name": "stdout",
     "output_type": "stream",
     "text": [
      "\r"
     ]
    },
    {
     "data": {
      "text/plain": [
       "0.7751855779427359"
      ]
     },
     "execution_count": 105,
     "metadata": {},
     "output_type": "execute_result"
    }
   ],
   "source": [
    "test_accuracy(model_news)"
   ]
  },
  {
   "cell_type": "code",
   "execution_count": null,
   "metadata": {},
   "outputs": [],
   "source": [
    "model_news.regularizers.add(\n",
    "    artm.SmoothSparseThetaRegularizer(\n",
    "        name='sparse_theta', tau = -0.1/(1+0.1) * n_news/(T*D_news) # relative coef = 0.1\n",
    "    ) #, overwrite=True\n",
    ")\n",
    "model_news.fit_offline(batch_vectorizer=bv_news, num_collection_passes=10)"
   ]
  },
  {
   "cell_type": "code",
   "execution_count": null,
   "metadata": {},
   "outputs": [],
   "source": [
    "model_news.regularizers.add(\n",
    "    artm.SmoothSparsePhiRegularizer(\n",
    "        name='sparse_phi', tau=-1e-5, gamma=0, \n",
    "        dictionary=dictionary_news)#, overwrite=True\n",
    ")\n",
    "\n",
    "model_news.fit_offline(batch_vectorizer=bv_news, num_collection_passes=10)"
   ]
  },
  {
   "cell_type": "code",
   "execution_count": 134,
   "metadata": {},
   "outputs": [
    {
     "name": "stdout",
     "output_type": "stream",
     "text": [
      "topic 10: bike, dod, article, writes, motorcycle, one, ride, dog, like, posting, nntp, host, get, dont, riding\n",
      "topic 0: christian, science, one, writes, article, people, say, think, child, koresh, dont, know, god, would, order\n",
      "topic 5: mac, apple, problem, drive, bit, monitor, card, one, posting, speed, chip, university, simms, nntp, ram\n",
      "topic 9: sale, price, offer, shipping, new, university, distribution, mail, edu, posting, nntp, host, condition, mov, please\n",
      "topic 3: key, encryption, chip, clipper, government, security, privacy, system, use, would, one, public, law, escrow, information\n",
      "topic 13: god, one, atheist, people, writes, dont, would, argument, think, say, religion, thing, article, human, atheism\n",
      "topic 14: said, armenian, people, one, didnt, went, say, know, woman, dont, would, going, told, something, came\n",
      "topic 1: wire, one, circuit, use, power, ground, would, need, host, like, university, get, current, outlet, article\n",
      "topic 12: food, disease, medical, one, article, patient, doctor, health, msg, gordon, would, writes, bank, study, time\n",
      "topic 19: president, people, would, government, tax, think, state, writes, article, dont, stephanopoulos, clinton, job, make, going\n",
      "topic 16: game, team, hockey, play, player, nhl, season, year, playoff, goal, win, university, period, league, writes\n",
      "topic 15: space, nasa, launch, satellite, orbit, mission, earth, year, article, writes, moon, shuttle, rocket, flight, system\n",
      "topic 8: drive, scsi, ide, bus, controller, entry, card, disk, system, isa, problem, one, get, use, file\n",
      "topic 7: year, game, baseball, team, player, writes, article, last, run, win, good, fan, hit, think, university\n",
      "topic 6: gun, people, would, right, israel, article, writes, israeli, state, turkish, one, jew, armenian, weapon, government\n",
      "topic 2: file, image, graphic, ftp, pub, format, program, available, data, version, edu, mail, gif, jpeg, information\n",
      "topic 17: car, article, writes, auto, engine, would, bhj, posting, like, one, bxn, get, nntp, host, good\n",
      "topic 11: god, jesus, christian, one, would, church, people, bible, say, christ, believe, faith, think, know, life\n",
      "topic 18: window, driver, file, card, problem, mouse, program, use, win, university, using, font, version, system, mode\n",
      "topic 4: window, widget, server, motif, application, sun, use, get, mit, program, problem, set, using, event, display\n"
     ]
    },
    {
     "data": {
      "application/vnd.jupyter.widget-view+json": {
       "model_id": "",
       "version_major": 2,
       "version_minor": 0
      },
      "text/plain": [
       "HBox(children=(IntProgress(value=0, description='Batch', max=3, style=ProgressStyle(description_width='initial…"
      ]
     },
     "metadata": {},
     "output_type": "display_data"
    },
    {
     "data": {
      "text/plain": [
       "0.8211382113821138"
      ]
     },
     "execution_count": 134,
     "metadata": {},
     "output_type": "execute_result"
    },
    {
     "data": {
      "image/png": "[encoded data removed]",
      "text/plain": [
       "<Figure size 864x360 with 2 Axes>"
      ]
     },
     "metadata": {
      "needs_background": "light"
     },
     "output_type": "display_data"
    }
   ],
   "source": [
    "plot_perp_and_sparsity(model_news)\n",
    "print_top_words(model_news)\n",
    "test_accuracy(model_news)"
   ]
  },
  {
   "cell_type": "markdown",
   "metadata": {},
   "source": [
    "### Gridsearching"
   ]
  },
  {
   "cell_type": "code",
   "execution_count": 186,
   "metadata": {},
   "outputs": [],
   "source": [
    "acc = {}"
   ]
  },
  {
   "cell_type": "code",
   "execution_count": 184,
   "metadata": {
    "code_folding": []
   },
   "outputs": [],
   "source": [
    "def gridsearch(reg1_space=np.array((0.01, 0.03, 0.05)), reg2_space=np.linspace(0.01, 0.05, 5), reg3_space=np.linspace(1.2, 2., 5)):\n",
    "    for t1 in tqdm_notebook(reg1_space):\n",
    "        for t2 in tqdm_notebook(reg2_space):\n",
    "            for t3 in tqdm_notebook(reg3_space):\n",
    "                if 'models/news/{}_{}_{}'.format(round(t1, 4), round(t2, 3), round(t3, 6)) in acc.keys():\n",
    "                    pass\n",
    "                else:\n",
    "                    bv_news, dictionary_news = read_collection(\"batches_train\", \"./20ng_train_artm.vw\")\n",
    "                    dictionary_news.filter(max_df_rate=0.95)\n",
    "\n",
    "                    model_news = artm.ARTM(\n",
    "                        topic_names=['topic {}'.format(i) for i in range(T)],\n",
    "                        theta_columns_naming = 'title',\n",
    "                        num_document_passes = 5,\n",
    "                        class_ids={'@raw_text': 1.0, '@origin': 20.0}\n",
    "                    )\n",
    "\n",
    "                    model_news.scores.add(artm.PerplexityScore(name='perplexity_score', dictionary=dictionary_news))\n",
    "                    model_news.scores.add(artm.SparsityPhiScore(name='sparsity_phi_score', class_id='@raw_text'))\n",
    "                    model_news.scores.add(artm.SparsityThetaScore(name='sparsity_theta_score'))\n",
    "                    model_news.scores.add(artm.TopTokensScore(name=\"top_words\", num_tokens=15, class_id='@raw_text'))\n",
    "                    np.random.seed(16)\n",
    "                    model_news.initialize(dictionary_news)\n",
    "\n",
    "                    model_news.fit_offline(batch_vectorizer=bv_news, num_collection_passes=10)\n",
    "\n",
    "                    model_news.regularizers.add(\n",
    "                        artm.DecorrelatorPhiRegularizer(\n",
    "                            name='decorrelator_phi', tau=t1, gamma=0, class_ids=\"@raw_text\")#, overwrite=True\n",
    "                    )\n",
    "                    model_news.fit_offline(batch_vectorizer=bv_news, num_collection_passes=10)\n",
    "\n",
    "                    model_news.regularizers.add(\n",
    "                        artm.SmoothSparseThetaRegularizer(\n",
    "                            name='sparse_theta', tau = -t2/(1+t2) * n_news/(T*D_news))#, overwrite=True\n",
    "                    )\n",
    "                    model_news.fit_offline(batch_vectorizer=bv_news, num_collection_passes=10)\n",
    "\n",
    "                    model_news.regularizers.add(\n",
    "                        artm.SmoothSparsePhiRegularizer(\n",
    "                            name='smooth_phi', tau=-t3, gamma=0, dictionary=dictionary_news)#, overwrite=True\n",
    "                    )\n",
    "                    model_news.fit_offline(batch_vectorizer=bv_news, num_collection_passes=10)\n",
    "\n",
    "                    acc['models/news/{}_{}_{}'.format(round(t1, 4), round(t2, 3), round(t3, 6))] = test_accuracy(model_news)\n",
    "                    model_news.save('models/news/{}_{}_{}'.format(round(t1, 4), round(t2, 3), round(t3, 6)))"
   ]
  },
  {
   "cell_type": "code",
   "execution_count": 188,
   "metadata": {},
   "outputs": [
    {
     "data": {
      "text/plain": [
       "{'models/news/0.01_0.1_0.0001': 0.8236125839519265,\n",
       " 'models/news/0.01_0.1_1e-05': 0.8236125839519265,\n",
       " 'models/news/0.01_0.1_1e-06': 0.823966065747614,\n",
       " 'models/news/0.01_0.1_3e-05': 0.8236125839519265,\n",
       " 'models/news/0.01_0.1_3e-06': 0.823966065747614}"
      ]
     },
     "execution_count": 188,
     "metadata": {},
     "output_type": "execute_result"
    }
   ],
   "source": [
    "acc"
   ]
  },
  {
   "cell_type": "code",
   "execution_count": 182,
   "metadata": {},
   "outputs": [
    {
     "data": {
      "text/plain": [
       "{'models/news/0.01_0.01_0.0': 0.8140685754683634,\n",
       " 'models/news/0.01_0.05_0.0': 0.8183103570166137,\n",
       " 'models/news/0.01_0.1_0.0': 0.8236125839519265,\n",
       " 'models/news/0.01_0.2_0.0': 0.8250265111346765}"
      ]
     },
     "execution_count": 182,
     "metadata": {},
     "output_type": "execute_result"
    }
   ],
   "source": [
    "acc"
   ]
  },
  {
   "cell_type": "code",
   "execution_count": 142,
   "metadata": {},
   "outputs": [
    {
     "data": {
      "text/plain": [
       "{'models/news/0.001_0.1_0.0': 0.8236125839519265,\n",
       " 'models/news/0.005_0.1_0.0': 0.8236125839519265,\n",
       " 'models/news/0.01_0.1_0.0': 0.8236125839519265,\n",
       " 'models/news/0.05_0.1_0.0': 0.8211382113821138,\n",
       " 'models/news/0.1_0.1_0.0': 0.7419582891481089}"
      ]
     },
     "execution_count": 142,
     "metadata": {},
     "output_type": "execute_result"
    }
   ],
   "source": [
    "acc"
   ]
  },
  {
   "cell_type": "code",
   "execution_count": null,
   "metadata": {},
   "outputs": [],
   "source": [
    "gridsearch([0.005, 0.01, 0.05], [0.2, 0.1], [1e-6, 5e-6, 1e-5, 5e-5])"
   ]
  },
  {
   "cell_type": "code",
   "execution_count": 197,
   "metadata": {},
   "outputs": [
    {
     "name": "stdout",
     "output_type": "stream",
     "text": [
      "models/news/0.001_0.2_5e-06\n",
      "models/news/0.005_0.2_1e-05\n",
      "models/news/0.005_0.2_5e-06\n",
      "models/news/0.005_0.2_1e-06\n",
      "models/news/0.005_0.2_5e-05\n",
      "models/news/0.01_0.2_1e-06\n",
      "models/news/0.01_0.2_5e-06\n",
      "models/news/0.001_0.2_1e-06\n",
      "models/news/0.001_0.2_1e-05\n"
     ]
    }
   ],
   "source": [
    "for key in acc.keys():\n",
    "    if acc[key] == max(acc.values()):\n",
    "        print(key)"
   ]
  },
  {
   "cell_type": "code",
   "execution_count": 199,
   "metadata": {},
   "outputs": [
    {
     "name": "stdout",
     "output_type": "stream",
     "text": [
      "0.8250265111346765\n"
     ]
    }
   ],
   "source": [
    "print(max(acc.values()))"
   ]
  }
 ],
 "metadata": {
  "kernelspec": {
   "display_name": "Python 3",
   "language": "python",
   "name": "python3"
  },
  "language_info": {
   "codemirror_mode": {
    "name": "ipython",
    "version": 3
   },
   "file_extension": ".py",
   "mimetype": "text/x-python",
   "name": "python",
   "nbconvert_exporter": "python",
   "pygments_lexer": "ipython3",
   "version": "3.5.3"
  }
 },
 "nbformat": 4,
 "nbformat_minor": 2
}
